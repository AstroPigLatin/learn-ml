{
 "cells": [
  {
   "cell_type": "markdown",
   "metadata": {},
   "source": [
    "### Get CIFAR 10 from Keras"
   ]
  },
  {
   "cell_type": "code",
   "execution_count": 1,
   "metadata": {},
   "outputs": [
    {
     "name": "stderr",
     "output_type": "stream",
     "text": [
      "Using TensorFlow backend.\n"
     ]
    }
   ],
   "source": [
    "from __future__ import print_function\n",
    "import numpy as np\n",
    "\n",
    "from keras.datasets import cifar10\n",
    "from keras.callbacks import TensorBoard\n",
    "from keras.models import Sequential\n",
    "from keras.layers import Dense, Dropout, Activation, Flatten\n",
    "from keras.layers import Convolution2D, MaxPooling2D\n",
    "from keras.utils import np_utils\n",
    "from keras import backend as K"
   ]
  },
  {
   "cell_type": "code",
   "execution_count": 2,
   "metadata": {
    "collapsed": true
   },
   "outputs": [],
   "source": [
    "np.random.seed(1337) # Very l33t"
   ]
  },
  {
   "cell_type": "code",
   "execution_count": 3,
   "metadata": {
    "collapsed": true
   },
   "outputs": [],
   "source": [
    "# Defines how many images we will process at once\n",
    "batch_size = 128"
   ]
  },
  {
   "cell_type": "code",
   "execution_count": 4,
   "metadata": {
    "collapsed": true
   },
   "outputs": [],
   "source": [
    "# Defines how many types of objects we can detect in this set. \n",
    "# Since CIFAR 10 only detects 10 kinds of objects, we set this to 10.\n",
    "nb_classes = 10"
   ]
  },
  {
   "cell_type": "code",
   "execution_count": 5,
   "metadata": {
    "collapsed": true
   },
   "outputs": [],
   "source": [
    "# The epoch defines how long we train the system.  Longer is not always better. \n",
    "# After a period of time we reach the point of diminishing returns.  Adjust this as necessary.\n",
    "nb_epoch = 45"
   ]
  },
  {
   "cell_type": "code",
   "execution_count": 6,
   "metadata": {
    "collapsed": true
   },
   "outputs": [],
   "source": [
    "# Here we put in the image dimensions.  We know the images are 32 x 32.  \n",
    "# They are already preprocessed for us to be nicely uniform to work with at this point.\n",
    "img_rows, img_cols = 32, 32"
   ]
  },
  {
   "cell_type": "code",
   "execution_count": 7,
   "metadata": {
    "collapsed": true
   },
   "outputs": [],
   "source": [
    "# Here we set the number of convolutional filters to use\n",
    "nb_filters = 32"
   ]
  },
  {
   "cell_type": "code",
   "execution_count": 8,
   "metadata": {
    "collapsed": true
   },
   "outputs": [],
   "source": [
    "# size of pooling area for max pooling\n",
    "pool_size = (2, 2)\n",
    "# convolution kernel size\n",
    "kernel_size = (3, 3)"
   ]
  },
  {
   "cell_type": "code",
   "execution_count": 9,
   "metadata": {},
   "outputs": [
    {
     "name": "stdout",
     "output_type": "stream",
     "text": [
      "Downloading data from https://www.cs.toronto.edu/~kriz/cifar-10-python.tar.gz\n",
      "170500096/170498071 [==============================] - 95s 1us/step\n",
      "170508288/170498071 [==============================] - 95s 1us/step\n"
     ]
    }
   ],
   "source": [
    "# This splits the data into training and test sets and loads the data.  \n",
    "# Cifar10 is a standard test data set for Keras so it can download it automatically.  It's about 186MB expanded.\n",
    "\n",
    "(X_train, y_train), (X_test, y_test) = cifar10.load_data()"
   ]
  },
  {
   "cell_type": "code",
   "execution_count": 10,
   "metadata": {},
   "outputs": [
    {
     "name": "stdout",
     "output_type": "stream",
     "text": [
      "X_train shape: (50000, 32, 32, 3)\n",
      "50000 train samples\n",
      "10000 test samples\n"
     ]
    }
   ],
   "source": [
    "# Unfortunately, TensorFlow and Theano want their tenor parameters in a different order,\n",
    "# so we check for the backend from the json initialization file and set them accordingly.\n",
    "\n",
    "if K.image_dim_ordering() == 'th':\n",
    "    X_train = X_train.reshape(X_train.shape[0], 3, img_rows, img_cols)\n",
    "    X_test = X_test.reshape(X_test.shape[0], 3, img_rows, img_cols)\n",
    "    input_shape = (1, img_rows, img_cols)\n",
    "else:\n",
    "    X_train = X_train.reshape(X_train.shape[0], img_rows, img_cols, 3)\n",
    "    X_test = X_test.reshape(X_test.shape[0], img_rows, img_cols, 3)\n",
    "    input_shape = (img_rows, img_cols, 3)\n",
    "\n",
    "X_train = X_train.astype('float32')\n",
    "X_test = X_test.astype('float32')\n",
    "X_train /= 255\n",
    "X_test /= 255\n",
    "print('X_train shape:', X_train.shape)\n",
    "print(X_train.shape[0], 'train samples')\n",
    "print(X_test.shape[0], 'test samples')"
   ]
  },
  {
   "cell_type": "code",
   "execution_count": 11,
   "metadata": {
    "collapsed": true
   },
   "outputs": [],
   "source": [
    "# convert class vectors to binary class matrices\n",
    "\n",
    "Y_train = np_utils.to_categorical(y_train, nb_classes)\n",
    "Y_test = np_utils.to_categorical(y_test, nb_classes)"
   ]
  },
  {
   "cell_type": "code",
   "execution_count": 12,
   "metadata": {},
   "outputs": [
    {
     "name": "stderr",
     "output_type": "stream",
     "text": [
      "/Users/alex/anaconda/lib/python2.7/site-packages/ipykernel_launcher.py:5: UserWarning: Update your `Conv2D` call to the Keras 2 API: `Conv2D(32, (3, 3), padding=\"valid\", input_shape=(32, 32, 3...)`\n",
      "  \"\"\"\n",
      "/Users/alex/anaconda/lib/python2.7/site-packages/ipykernel_launcher.py:7: UserWarning: Update your `Conv2D` call to the Keras 2 API: `Conv2D(32, (3, 3))`\n",
      "  import sys\n"
     ]
    }
   ],
   "source": [
    "model = Sequential()\n",
    "\n",
    "model.add(Convolution2D(nb_filters, kernel_size[0], kernel_size[1],\n",
    "                        border_mode='valid',\n",
    "                        input_shape=input_shape))\n",
    "model.add(Activation('relu'))\n",
    "model.add(Convolution2D(nb_filters, kernel_size[0], kernel_size[1]))\n",
    "model.add(Activation('relu'))\n",
    "model.add(MaxPooling2D(pool_size=pool_size))\n",
    "model.add(Dropout(0.25))"
   ]
  },
  {
   "cell_type": "code",
   "execution_count": 13,
   "metadata": {},
   "outputs": [
    {
     "name": "stderr",
     "output_type": "stream",
     "text": [
      "/Users/alex/anaconda/lib/python2.7/site-packages/ipykernel_launcher.py:2: UserWarning: Update your `Conv2D` call to the Keras 2 API: `Conv2D(32, (3, 3))`\n",
      "  \n"
     ]
    }
   ],
   "source": [
    "model.add(Activation('relu'))\n",
    "model.add(Convolution2D(nb_filters, kernel_size[0], kernel_size[1]))\n",
    "model.add(Activation('relu'))\n",
    "model.add(MaxPooling2D(pool_size=pool_size))\n",
    "model.add(Dropout(0.25))"
   ]
  },
  {
   "cell_type": "code",
   "execution_count": 14,
   "metadata": {
    "collapsed": true
   },
   "outputs": [],
   "source": [
    "model.add(Flatten())\n",
    "model.add(Dense(256))\n",
    "model.add(Activation('relu'))\n",
    "model.add(Dropout(0.5))\n",
    "model.add(Dense(nb_classes))\n",
    "model.add(Activation('softmax'))"
   ]
  },
  {
   "cell_type": "code",
   "execution_count": 15,
   "metadata": {
    "collapsed": true
   },
   "outputs": [],
   "source": [
    "model.compile(loss='categorical_crossentropy',\n",
    "              optimizer='adam',\n",
    "              metrics=['accuracy'])"
   ]
  },
  {
   "cell_type": "code",
   "execution_count": 16,
   "metadata": {
    "collapsed": true
   },
   "outputs": [],
   "source": [
    "# Set up TensorBoard\n",
    "tb = TensorBoard(log_dir='./logs')"
   ]
  },
  {
   "cell_type": "code",
   "execution_count": null,
   "metadata": {
    "collapsed": true
   },
   "outputs": [],
   "source": []
  },
  {
   "cell_type": "code",
   "execution_count": 17,
   "metadata": {},
   "outputs": [
    {
     "name": "stderr",
     "output_type": "stream",
     "text": [
      "/Users/alex/anaconda/lib/python2.7/site-packages/keras/models.py:944: UserWarning: The `nb_epoch` argument in `fit` has been renamed `epochs`.\n",
      "  warnings.warn('The `nb_epoch` argument in `fit` '\n"
     ]
    },
    {
     "name": "stdout",
     "output_type": "stream",
     "text": [
      "Train on 50000 samples, validate on 10000 samples\n",
      "Epoch 1/45\n",
      "50000/50000 [==============================] - 177s 4ms/step - loss: 1.7250 - acc: 0.3636 - val_loss: 1.3990 - val_acc: 0.5025\n",
      "Epoch 2/45\n",
      "50000/50000 [==============================] - 183s 4ms/step - loss: 1.3859 - acc: 0.4981 - val_loss: 1.2231 - val_acc: 0.5734\n",
      "Epoch 3/45\n",
      "50000/50000 [==============================] - 183s 4ms/step - loss: 1.2502 - acc: 0.5552 - val_loss: 1.0946 - val_acc: 0.6226\n",
      "Epoch 4/45\n",
      "50000/50000 [==============================] - 174s 3ms/step - loss: 1.1480 - acc: 0.5931 - val_loss: 1.0412 - val_acc: 0.6337\n",
      "Epoch 5/45\n",
      "50000/50000 [==============================] - 171s 3ms/step - loss: 1.0744 - acc: 0.6199 - val_loss: 0.9436 - val_acc: 0.6719\n",
      "Epoch 6/45\n",
      "50000/50000 [==============================] - 145s 3ms/step - loss: 1.0212 - acc: 0.6437 - val_loss: 0.9395 - val_acc: 0.6731\n",
      "Epoch 7/45\n",
      "50000/50000 [==============================] - 144s 3ms/step - loss: 0.9767 - acc: 0.6558 - val_loss: 0.8833 - val_acc: 0.6895\n",
      "Epoch 8/45\n",
      "50000/50000 [==============================] - 148s 3ms/step - loss: 0.9369 - acc: 0.6724 - val_loss: 0.8274 - val_acc: 0.7130\n",
      "Epoch 9/45\n",
      "50000/50000 [==============================] - 145s 3ms/step - loss: 0.9144 - acc: 0.6811 - val_loss: 0.8167 - val_acc: 0.7200\n",
      "Epoch 10/45\n",
      "50000/50000 [==============================] - 165s 3ms/step - loss: 0.8877 - acc: 0.6886 - val_loss: 0.7913 - val_acc: 0.7275\n",
      "Epoch 11/45\n",
      "50000/50000 [==============================] - 175s 4ms/step - loss: 0.8630 - acc: 0.6969 - val_loss: 0.7953 - val_acc: 0.7190\n",
      "Epoch 12/45\n",
      "50000/50000 [==============================] - 173s 3ms/step - loss: 0.8413 - acc: 0.7050 - val_loss: 0.7581 - val_acc: 0.7362\n",
      "Epoch 13/45\n",
      "50000/50000 [==============================] - 173s 3ms/step - loss: 0.8218 - acc: 0.7109 - val_loss: 0.7519 - val_acc: 0.7387\n",
      "Epoch 14/45\n",
      "50000/50000 [==============================] - 170s 3ms/step - loss: 0.8079 - acc: 0.7180 - val_loss: 0.7338 - val_acc: 0.7467\n",
      "Epoch 15/45\n",
      "50000/50000 [==============================] - 176s 4ms/step - loss: 0.7963 - acc: 0.7192 - val_loss: 0.7368 - val_acc: 0.7429\n",
      "Epoch 16/45\n",
      "50000/50000 [==============================] - 172s 3ms/step - loss: 0.7862 - acc: 0.7246 - val_loss: 0.7289 - val_acc: 0.7446\n",
      "Epoch 17/45\n",
      "50000/50000 [==============================] - 171s 3ms/step - loss: 0.7642 - acc: 0.7310 - val_loss: 0.7262 - val_acc: 0.7468\n",
      "Epoch 18/45\n",
      "50000/50000 [==============================] - 168s 3ms/step - loss: 0.7586 - acc: 0.7317 - val_loss: 0.7217 - val_acc: 0.7500\n",
      "Epoch 19/45\n",
      "50000/50000 [==============================] - 164s 3ms/step - loss: 0.7460 - acc: 0.7356 - val_loss: 0.7216 - val_acc: 0.7490\n",
      "Epoch 20/45\n",
      "50000/50000 [==============================] - 165s 3ms/step - loss: 0.7432 - acc: 0.7389 - val_loss: 0.7031 - val_acc: 0.7572\n",
      "Epoch 21/45\n",
      "50000/50000 [==============================] - 164s 3ms/step - loss: 0.7274 - acc: 0.7417 - val_loss: 0.7041 - val_acc: 0.7549\n",
      "Epoch 22/45\n",
      "50000/50000 [==============================] - 168s 3ms/step - loss: 0.7166 - acc: 0.7474 - val_loss: 0.6966 - val_acc: 0.7587\n",
      "Epoch 23/45\n",
      "50000/50000 [==============================] - 172s 3ms/step - loss: 0.7044 - acc: 0.7517 - val_loss: 0.6890 - val_acc: 0.7609\n",
      "Epoch 24/45\n",
      "50000/50000 [==============================] - 160s 3ms/step - loss: 0.7021 - acc: 0.7513 - val_loss: 0.6798 - val_acc: 0.7627\n",
      "Epoch 25/45\n",
      "50000/50000 [==============================] - 149s 3ms/step - loss: 0.6959 - acc: 0.7538 - val_loss: 0.6869 - val_acc: 0.7607\n",
      "Epoch 26/45\n",
      "50000/50000 [==============================] - 160s 3ms/step - loss: 0.6814 - acc: 0.7592 - val_loss: 0.6980 - val_acc: 0.7582\n",
      "Epoch 27/45\n",
      "50000/50000 [==============================] - 168s 3ms/step - loss: 0.6795 - acc: 0.7597 - val_loss: 0.6791 - val_acc: 0.7659\n",
      "Epoch 28/45\n",
      "50000/50000 [==============================] - 169s 3ms/step - loss: 0.6704 - acc: 0.7614 - val_loss: 0.6747 - val_acc: 0.7661\n",
      "Epoch 29/45\n",
      "50000/50000 [==============================] - 170s 3ms/step - loss: 0.6667 - acc: 0.7634 - val_loss: 0.6747 - val_acc: 0.7669\n",
      "Epoch 30/45\n",
      "50000/50000 [==============================] - 169s 3ms/step - loss: 0.6629 - acc: 0.7636 - val_loss: 0.6741 - val_acc: 0.7713\n",
      "Epoch 31/45\n",
      "50000/50000 [==============================] - 169s 3ms/step - loss: 0.6523 - acc: 0.7685 - val_loss: 0.6683 - val_acc: 0.7679\n",
      "Epoch 32/45\n",
      "50000/50000 [==============================] - 166s 3ms/step - loss: 0.6489 - acc: 0.7697 - val_loss: 0.6722 - val_acc: 0.7668\n",
      "Epoch 33/45\n",
      "50000/50000 [==============================] - 172s 3ms/step - loss: 0.6498 - acc: 0.7666 - val_loss: 0.6806 - val_acc: 0.7673\n",
      "Epoch 34/45\n",
      "50000/50000 [==============================] - 148s 3ms/step - loss: 0.6420 - acc: 0.7712 - val_loss: 0.6655 - val_acc: 0.7753\n",
      "Epoch 35/45\n",
      "50000/50000 [==============================] - 161s 3ms/step - loss: 0.6399 - acc: 0.7727 - val_loss: 0.6828 - val_acc: 0.7653\n",
      "Epoch 36/45\n",
      "50000/50000 [==============================] - 159s 3ms/step - loss: 0.6239 - acc: 0.7773 - val_loss: 0.6886 - val_acc: 0.7654\n",
      "Epoch 37/45\n",
      "50000/50000 [==============================] - 146s 3ms/step - loss: 0.6316 - acc: 0.7750 - val_loss: 0.6729 - val_acc: 0.7683\n",
      "Epoch 38/45\n",
      "50000/50000 [==============================] - 143s 3ms/step - loss: 0.6274 - acc: 0.7761 - val_loss: 0.6670 - val_acc: 0.7701\n",
      "Epoch 39/45\n",
      "50000/50000 [==============================] - 144s 3ms/step - loss: 0.6163 - acc: 0.7786 - val_loss: 0.6736 - val_acc: 0.7676\n",
      "Epoch 40/45\n",
      "50000/50000 [==============================] - 147s 3ms/step - loss: 0.6161 - acc: 0.7805 - val_loss: 0.6626 - val_acc: 0.7733\n",
      "Epoch 41/45\n",
      "50000/50000 [==============================] - 145s 3ms/step - loss: 0.6072 - acc: 0.7831 - val_loss: 0.6637 - val_acc: 0.7729\n",
      "Epoch 42/45\n",
      "50000/50000 [==============================] - 144s 3ms/step - loss: 0.6079 - acc: 0.7838 - val_loss: 0.6513 - val_acc: 0.7768\n",
      "Epoch 43/45\n",
      "50000/50000 [==============================] - 146s 3ms/step - loss: 0.6001 - acc: 0.7862 - val_loss: 0.6564 - val_acc: 0.7751\n",
      "Epoch 44/45\n",
      "50000/50000 [==============================] - 156s 3ms/step - loss: 0.6023 - acc: 0.7863 - val_loss: 0.6803 - val_acc: 0.7769\n",
      "Epoch 45/45\n",
      "50000/50000 [==============================] - 151s 3ms/step - loss: 0.5987 - acc: 0.7854 - val_loss: 0.6635 - val_acc: 0.7774\n",
      "Test score: 0.66354782095\n",
      "Accuracy: 77.74%\n"
     ]
    }
   ],
   "source": [
    "model.fit(X_train, Y_train, batch_size=batch_size, nb_epoch=nb_epoch, verbose=1, validation_data=(X_test, Y_test), callbacks=[tb])\n",
    "\n",
    "score = model.evaluate(X_test, Y_test, verbose=0)\n",
    "\n",
    "print('Test score:', score[0])\n",
    "print(\"Accuracy: %.2f%%\" % (score[1]*100))"
   ]
  },
  {
   "cell_type": "code",
   "execution_count": 18,
   "metadata": {},
   "outputs": [
    {
     "ename": "SyntaxError",
     "evalue": "invalid syntax (<ipython-input-18-c91b08a6d72d>, line 1)",
     "output_type": "error",
     "traceback": [
      "\u001b[0;36m  File \u001b[0;32m\"<ipython-input-18-c91b08a6d72d>\"\u001b[0;36m, line \u001b[0;32m1\u001b[0m\n\u001b[0;31m    tensorboard --logdir=./logs\u001b[0m\n\u001b[0m                         ^\u001b[0m\n\u001b[0;31mSyntaxError\u001b[0m\u001b[0;31m:\u001b[0m invalid syntax\n"
     ]
    }
   ],
   "source": [
    "# tensorboard --logdir=./logs\n",
    "# go to 127.0.1.1:6006"
   ]
  },
  {
   "cell_type": "code",
   "execution_count": null,
   "metadata": {
    "collapsed": true
   },
   "outputs": [],
   "source": []
  }
 ],
 "metadata": {
  "celltoolbar": "Raw Cell Format",
  "kernelspec": {
   "display_name": "Python 2",
   "language": "python",
   "name": "python2"
  },
  "language_info": {
   "codemirror_mode": {
    "name": "ipython",
    "version": 2
   },
   "file_extension": ".py",
   "mimetype": "text/x-python",
   "name": "python",
   "nbconvert_exporter": "python",
   "pygments_lexer": "ipython2",
   "version": "2.7.13"
  }
 },
 "nbformat": 4,
 "nbformat_minor": 2
}
