{
 "cells": [
  {
   "cell_type": "code",
   "execution_count": 3,
   "metadata": {
    "collapsed": true
   },
   "outputs": [],
   "source": [
    "import glob"
   ]
  },
  {
   "cell_type": "code",
   "execution_count": 10,
   "metadata": {},
   "outputs": [],
   "source": [
    "alltext = []\n",
    "for filename in glob.glob('module2/*.txt'): # Unix style pathname pattern expansion\n",
    "    #print filename\n",
    "    text=open(filename, \"r\")\n",
    "    searchlines = text.readlines()\n",
    "    alltext.append(searchlines)\n",
    "    #print searchlines"
   ]
  },
  {
   "cell_type": "code",
   "execution_count": 14,
   "metadata": {},
   "outputs": [
    {
     "name": "stdout",
     "output_type": "stream",
     "text": [
      "Tilde Y is equal to Y minus l of Z.\n",
      "Tilde D is equal to D minus m of Z, where L of Z and\n",
      "M of Z are conditional expectations of Y and D given Z.\n",
      "Our decomposition can now be recognized as the normal equations for\n",
      "\n",
      "if our data sample is not extremely unusual, the interval covers the truth.\n",
      "Given that we can use a wide variety of methods for estimation of L of Z and\n",
      "M of Z, it is natural to try to choose the best one using the data splitting.\n",
      "In the construction we described we use the auxiliary sample A to estimate\n",
      "\n",
      "We present the results in a table.\n",
      "For the first column shows the method we used to estimate M of Z and L of Z.\n",
      "The second column shows the estimated effect and\n",
      "the final column shows 95% confidence interval for the effect.\n",
      "\n",
      "Next, in order to contract best estimate of beta,\n",
      "we evaluate the performance of predictors had L of Z sets and had M of Z\n",
      "estimated by different methods on the auxiliary samples using the main samples.\n",
      "Then we pick the methods giving the lowest average, MSE.\n",
      "\n"
     ]
    }
   ],
   "source": [
    "searchphrase = \"L of Z\"\n",
    "\n",
    "for searchlines in alltext:\n",
    "    for i, line in enumerate(searchlines):\n",
    "        if searchphrase in line: \n",
    "            for l in searchlines[i-1:i+3]: print l,\n",
    "            print"
   ]
  },
  {
   "cell_type": "code",
   "execution_count": null,
   "metadata": {
    "collapsed": true
   },
   "outputs": [],
   "source": []
  }
 ],
 "metadata": {
  "kernelspec": {
   "display_name": "Python 2",
   "language": "python",
   "name": "python2"
  },
  "language_info": {
   "codemirror_mode": {
    "name": "ipython",
    "version": 2
   },
   "file_extension": ".py",
   "mimetype": "text/x-python",
   "name": "python",
   "nbconvert_exporter": "python",
   "pygments_lexer": "ipython2",
   "version": "2.7.14"
  }
 },
 "nbformat": 4,
 "nbformat_minor": 2
}
