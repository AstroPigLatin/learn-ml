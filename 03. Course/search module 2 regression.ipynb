{
 "cells": [
  {
   "cell_type": "code",
   "execution_count": 3,
   "metadata": {
    "collapsed": true
   },
   "outputs": [],
   "source": [
    "import glob"
   ]
  },
  {
   "cell_type": "code",
   "execution_count": 10,
   "metadata": {},
   "outputs": [],
   "source": [
    "alltext = []\n",
    "for filename in glob.glob('module2/*.txt'): # Unix style pathname pattern expansion\n",
    "    #print filename\n",
    "    text=open(filename, \"r\")\n",
    "    searchlines = text.readlines()\n",
    "    alltext.append(searchlines)\n",
    "    #print searchlines"
   ]
  },
  {
   "cell_type": "code",
   "execution_count": 74,
   "metadata": {},
   "outputs": [
    {
     "name": "stdout",
     "output_type": "stream",
     "text": [
      "the inference methods that we have learned in this module.\n",
      "The randomized control trials represent the golden standard in proving that\n",
      "medical treatments and social programs work, and for\n",
      "this reason they are very widely used in medicine and in policy analysis.\n",
      "And randomized control trials are also widely used in business applications,\n",
      "under the name of AIB testing.\n",
      "To evaluate whether new products and services raise profits.\n",
      "But if we don't have access to the data from the randomized controlled trials.\n",
      "What if we work a data set that is pure observation.\n",
      "Under what conditions can we claim that we've established a causal relationship.\n",
      "A sufficient condition is that D, variable of interest is generated as if randomly\n",
      "assigned, conditional on the set of control Z.\n",
      "This is called the conditional random assignment, or conditional exogeneity.\n",
      "There is condition on Z,\n",
      "variation in D is as if it were generated through some experiment.\n",
      "As in a randomized control trial.\n",
      "In this case, we can also apply the partial linear regression model,\n",
      "Y = beta D + g(Z) + epsilon, and\n",
      "beta D indeed measures the causal effect of D on average outcome controlling for Z.\n",
      "We then apply the inference method that we have learned to beta, and\n",
      "\n"
     ]
    }
   ],
   "source": [
    "searchphrase = \"variable of interest\" ## Enter phrase to search\n",
    "previous = 10 # number of lines prior to the phrase\n",
    "after = 10 # number of lines after to the phrase\n",
    "\n",
    "for searchlines in alltext:\n",
    "    for i, line in enumerate(searchlines):\n",
    "        if searchphrase in line: \n",
    "            for l in searchlines[i-previous:i+after]: print l,\n",
    "            print"
   ]
  },
  {
   "cell_type": "code",
   "execution_count": null,
   "metadata": {
    "collapsed": true
   },
   "outputs": [],
   "source": []
  }
 ],
 "metadata": {
  "kernelspec": {
   "display_name": "Python 2",
   "language": "python",
   "name": "python2"
  },
  "language_info": {
   "codemirror_mode": {
    "name": "ipython",
    "version": 2
   },
   "file_extension": ".py",
   "mimetype": "text/x-python",
   "name": "python",
   "nbconvert_exporter": "python",
   "pygments_lexer": "ipython2",
   "version": "2.7.14"
  }
 },
 "nbformat": 4,
 "nbformat_minor": 2
}
